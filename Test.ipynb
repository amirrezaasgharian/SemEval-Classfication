{
 "cells": [
  {
   "cell_type": "code",
   "execution_count": 6,
   "metadata": {},
   "outputs": [
    {
     "name": "stdout",
     "output_type": "stream",
     "text": [
      "Before preprocessing:\n",
      "                       text\n",
      "0          Hello 123!#### 😊\n",
      "1  Python is awesome! @ ? 🐍\n",
      "2                     12345\n",
      "3           No emojis here.\n",
      "\n",
      "After preprocessing:\n",
      "                text\n",
      "0              Hello\n",
      "1  Python is awesome\n",
      "2                   \n",
      "3     No emojis here\n"
     ]
    },
    {
     "name": "stderr",
     "output_type": "stream",
     "text": [
      "C:\\Users\\Amir\\AppData\\Local\\Temp\\ipykernel_25332\\1852653911.py:7: FutureWarning: The default value of regex will change from True to False in a future version.\n",
      "  df[column_name] = df[column_name].str.replace(r'\\d+', '')\n"
     ]
    }
   ],
   "source": [
    "import pandas as pd\n",
    "import string\n",
    "import emoji\n",
    "\n",
    "def preprocess_column(df, column_name):\n",
    "    # Remove numbers\n",
    "    df[column_name] = df[column_name].str.replace(r'\\d+', '')\n",
    "\n",
    "    # Remove punctuation\n",
    "    df[column_name] = df[column_name].apply(lambda x: ''.join([char for char in x if char not in string.punctuation]))\n",
    "\n",
    "    # Remove emojis\n",
    "    df[column_name] = df[column_name].apply(lambda x: emoji.replace_emoji(x, ''))\n",
    "\n",
    "    # Remove extra whitespaces\n",
    "    df[column_name] = df[column_name].str.strip().replace(r'\\s+', ' ', regex=True)\n",
    "\n",
    "    return df\n",
    "\n",
    "# Example usage:\n",
    "# Assuming dfTemp is your DataFrame and 'text' is the column name\n",
    "dfTemp = pd.DataFrame({'text': ['Hello 123!#### 😊', 'Python is awesome! @ ? 🐍', '12345', 'No emojis here.']})\n",
    "print(\"Before preprocessing:\")\n",
    "print(dfTemp)\n",
    "\n",
    "dfTemp = preprocess_column(dfTemp, 'text')\n",
    "\n",
    "print(\"\\nAfter preprocessing:\")\n",
    "print(dfTemp)\n"
   ]
  },
  {
   "cell_type": "code",
   "execution_count": 19,
   "metadata": {},
   "outputs": [],
   "source": [
    "sad = 'nick young — fidel castro “legend” tmz tv!!!!!,,>....?'"
   ]
  },
  {
   "cell_type": "code",
   "execution_count": 20,
   "metadata": {},
   "outputs": [
    {
     "data": {
      "text/plain": [
       "'nick young  fidel castro legend tmz tv'"
      ]
     },
     "execution_count": 20,
     "metadata": {},
     "output_type": "execute_result"
    }
   ],
   "source": [
    "import re\n",
    "text = re.sub(r'[^\\w\\s]', '', sad)\n",
    "text"
   ]
  },
  {
   "cell_type": "code",
   "execution_count": null,
   "metadata": {},
   "outputs": [],
   "source": []
  }
 ],
 "metadata": {
  "kernelspec": {
   "display_name": "TextMining",
   "language": "python",
   "name": "python3"
  },
  "language_info": {
   "codemirror_mode": {
    "name": "ipython",
    "version": 3
   },
   "file_extension": ".py",
   "mimetype": "text/x-python",
   "name": "python",
   "nbconvert_exporter": "python",
   "pygments_lexer": "ipython3",
   "version": "3.8.12"
  }
 },
 "nbformat": 4,
 "nbformat_minor": 2
}
